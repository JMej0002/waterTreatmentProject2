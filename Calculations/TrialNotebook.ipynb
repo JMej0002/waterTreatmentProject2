{
 "cells": [
  {
   "cell_type": "code",
   "execution_count": null,
   "id": "f280fd06",
   "metadata": {},
   "outputs": [],
   "source": [
    "#trial\n",
    "## hola caracola"
   ]
  }
 ],
 "metadata": {
  "language_info": {
   "name": "python"
  }
 },
 "nbformat": 4,
 "nbformat_minor": 5
}
